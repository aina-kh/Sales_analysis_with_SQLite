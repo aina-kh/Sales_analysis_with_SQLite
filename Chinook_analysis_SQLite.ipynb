{
 "cells": [
  {
   "cell_type": "markdown",
   "metadata": {},
   "source": [
    "# Statistical Insights into Chinook's database with SQLite"
   ]
  },
  {
   "cell_type": "markdown",
   "metadata": {},
   "source": [
    "In this project I will analyze the famous sample database of a digital media store called Chinook. The database contains 11 tables and the connections between the tables can be found on the following image. "
   ]
  },
  {
   "cell_type": "markdown",
   "metadata": {},
   "source": [
    "![Chinook database](chinook-schema.svg)"
   ]
  },
  {
   "cell_type": "markdown",
   "metadata": {},
   "source": [
    "First, let's import the libraries and create some helper functions."
   ]
  },
  {
   "cell_type": "code",
   "execution_count": 1,
   "metadata": {},
   "outputs": [],
   "source": [
    "import pandas as pd\n",
    "import sqlite3\n",
    "import matplotlib.pyplot as plt\n",
    "import seaborn as sns\n",
    "\n",
    "%matplotlib inline"
   ]
  },
  {
   "cell_type": "code",
   "execution_count": 25,
   "metadata": {},
   "outputs": [],
   "source": [
    "# returns the output as pandas dataframe\n",
    "def run_query(q):\n",
    "    with sqlite3.connect('chinook.db') as conn:\n",
    "        return pd.read_sql(q, conn)"
   ]
  },
  {
   "cell_type": "code",
   "execution_count": 3,
   "metadata": {},
   "outputs": [],
   "source": [
    "def run_command(c):\n",
    "    with sqlite3.connect('chinook.db') as conn:\n",
    "        conn.isolation_level = None\n",
    "        conn.execute(c)"
   ]
  },
  {
   "cell_type": "code",
   "execution_count": 26,
   "metadata": {
    "scrolled": false
   },
   "outputs": [
    {
     "name": "stdout",
     "output_type": "stream",
     "text": [
      "              name   type\n",
      "0            album  table\n",
      "1           artist  table\n",
      "2         customer  table\n",
      "3         employee  table\n",
      "4            genre  table\n",
      "5          invoice  table\n",
      "6     invoice_line  table\n",
      "7       media_type  table\n",
      "8         playlist  table\n",
      "9   playlist_track  table\n",
      "10           track  table\n"
     ]
    }
   ],
   "source": [
    "def show_tables():\n",
    "    q = '''SELECT name, type \n",
    "           FROM sqlite_master \n",
    "           WHERE type IN (\"table\",\"view\")'''\n",
    "    return run_query(q)\n",
    "\n",
    "\n",
    "# let's check what the database contains\n",
    "if __name__ == '__main__':\n",
    "    print(show_tables())"
   ]
  },
  {
   "cell_type": "markdown",
   "metadata": {},
   "source": [
    "Using the information saved in this database, I will answer the following questions:\n",
    "1. What are the best-selling genres in USA?\n",
    "2. Which employee has the biggest number of clients and sales?\n",
    "3. Which countries should Chinook's marketing team direct their attention to?"
   ]
  },
  {
   "cell_type": "markdown",
   "metadata": {},
   "source": [
    "## 1. Best-selling genres in USA. "
   ]
  },
  {
   "cell_type": "markdown",
   "metadata": {},
   "source": [
    "Before signing contracts with new artists to buy the rights to sell their albums in Chinook's store in USA, it is important for management to understand which genres are most popular in the store righ now. I will create a query to display 10 top-selling genres among Chinook's customers and will also visualize the output."
   ]
  },
  {
   "cell_type": "code",
   "execution_count": 40,
   "metadata": {},
   "outputs": [
    {
     "name": "stdout",
     "output_type": "stream",
     "text": [
      "           genre_name  number_of_tracks  track_percentage\n",
      "0                Rock               561          0.533777\n",
      "1  Alternative & Punk               130          0.123692\n",
      "2               Metal               124          0.117983\n",
      "3            R&B/Soul                53          0.050428\n",
      "4               Blues                36          0.034253\n",
      "5         Alternative                35          0.033302\n",
      "6               Latin                22          0.020932\n",
      "7                 Pop                22          0.020932\n",
      "8         Hip Hop/Rap                20          0.019029\n",
      "9                Jazz                14          0.013321\n"
     ]
    },
    {
     "data": {
      "text/plain": [
       "Text(0,0.5,'Tracks Sold')"
      ]
     },
     "execution_count": 40,
     "metadata": {},
     "output_type": "execute_result"
    },
    {
     "data": {
      "image/png": "[encoded data removed]",
      "text/plain": [
       "<Figure size 1224x360 with 1 Axes>"
      ]
     },
     "metadata": {},
     "output_type": "display_data"
    }
   ],
   "source": [
    "q = '''WITH \n",
    "        tracks_usa AS -- create a table consisting of tracks only sold in USA\n",
    "        (\n",
    "        SELECT il.track_id FROM invoice_line il\n",
    "        LEFT JOIN invoice i ON i.invoice_id = il.invoice_id\n",
    "        WHERE i.billing_country = 'USA'\n",
    "        ),\n",
    "        \n",
    "        genre_tracks AS -- combine with previous table to count number of popular tracks\n",
    "        (\n",
    "         SELECT \n",
    "             g.name genre_name, \n",
    "             COUNT(tu.track_id) number_of_tracks\n",
    "         FROM genre g\n",
    "         LEFT JOIN track t\n",
    "         ON t.genre_id = g.genre_id\n",
    "         LEFT JOIN tracks_usa tu\n",
    "         ON tu.track_id = t.track_id\n",
    "         GROUP BY genre_name\n",
    "        )\n",
    "        \n",
    "        SELECT\n",
    "            genre_name,\n",
    "            number_of_tracks,\n",
    "            (CAST(number_of_tracks as Float) /1051) track_percentage\n",
    "        FROM genre_tracks\n",
    "        ORDER BY 2 DESC\n",
    "        LIMIT 10\n",
    "        '''\n",
    "\n",
    "if __name__ == '__main__':\n",
    "    print(run_query(q))\n",
    "\n",
    "genre_sales_usa = run_query(q)\n",
    "\n",
    "genre_sales_usa.genre_name = genre_sales_usa.genre_name.astype('category')\n",
    "\n",
    "fig, ax = plt.subplots(figsize=(17,5))\n",
    "\n",
    "\n",
    "\n",
    "sns.barplot(x='genre_name', y='number_of_tracks', data=genre_sales_usa, ax=ax)\n",
    "ax.set_xlabel('Genre')\n",
    "ax.set_ylabel('Tracks Sold')"
   ]
  },
  {
   "cell_type": "markdown",
   "metadata": {},
   "source": [
    "According to the table and the barplot above, Chinook should definitely buy albums of new rock artists, since it is the most popular genre in USA. In addition, they should also consider buying albums in Alternative & Punk, Metal and R&B/Soul genres, since they compose more than 5% of total sales. However, while considering other genres, the management should collect another more up-to-date data to see whether there has been a change in customers' preferences."
   ]
  },
  {
   "cell_type": "markdown",
   "metadata": {},
   "source": [
    "## 2. Employee performance"
   ]
  },
  {
   "cell_type": "markdown",
   "metadata": {},
   "source": [
    "Since every customer in Chinook is assigned to a sales support agent, we can analyze employee performance. Moreover, I will break this question into 2 parts. First, I want to compare the total sales of each of employees. Second, I will create a query of all sales ever placed in Chinook in order to visualize the employee performence with boxplot."
   ]
  },
  {
   "cell_type": "markdown",
   "metadata": {},
   "source": [
    "#### 2. 1 - Total Sales"
   ]
  },
  {
   "cell_type": "code",
   "execution_count": 46,
   "metadata": {
    "scrolled": true
   },
   "outputs": [
    {
     "name": "stdout",
     "output_type": "stream",
     "text": [
      "   employee_id  employee_name  number_of_clients  total_sales\n",
      "0            3   Jane Peacock                 21      1731.51\n",
      "1            4  Margaret Park                 20      1584.00\n",
      "2            5  Steve Johnson                 18      1393.92\n"
     ]
    },
    {
     "data": {
      "text/plain": [
       "<matplotlib.axes._subplots.AxesSubplot at 0x11493a8d0>"
      ]
     },
     "execution_count": 46,
     "metadata": {},
     "output_type": "execute_result"
    },
    {
     "data": {
      "image/png": "[encoded data removed]",
      "text/plain": [
       "<Figure size 432x288 with 1 Axes>"
      ]
     },
     "metadata": {},
     "output_type": "display_data"
    }
   ],
   "source": [
    "q = '''WITH\n",
    "            employee_customer AS \n",
    "            (\n",
    "             SELECT \n",
    "                e.employee_id,\n",
    "                (e.first_name || ' ' || e.last_name) employee_name,\n",
    "                c.customer_id\n",
    "             FROM employee e\n",
    "             INNER JOIN customer c ON e.employee_id = c.support_rep_id\n",
    "            ),\n",
    "            customer_total AS\n",
    "            (\n",
    "             SELECT \n",
    "                 c.customer_id,\n",
    "                 SUM(i.total) total_purchased\n",
    "             FROM customer c\n",
    "             LEFT JOIN invoice i ON c.customer_id = i.customer_id\n",
    "             GROUP BY 1\n",
    "            )\n",
    "       SELECT\n",
    "           ec.employee_id, \n",
    "           ec.employee_name,\n",
    "           COUNT(ec.customer_id) number_of_clients,\n",
    "           SUM(ct.total_purchased) total_sales\n",
    "       FROM employee_customer ec\n",
    "       LEFT JOIN customer_total ct ON ec.customer_id = ct.customer_id\n",
    "       GROUP BY 1,2\n",
    "           \n",
    "    '''\n",
    "if __name__ == '__main__':\n",
    "    print(run_query(q))\n",
    "\n",
    "employee_total_sales = run_query(q)\n",
    "employee_total_sales.employee_name=employee_total_sales.employee_name.astype('category')\n",
    "\n",
    "fig, ax = plt.subplots()\n",
    "sns.barplot(x='employee_name', y='total_sales', data=employee_total_sales, ax=ax)"
   ]
  },
  {
   "cell_type": "markdown",
   "metadata": {},
   "source": [
    "According to the barplot Jane Peacock has the biggest total sales, while Steve Johnson the smallest. Moreover, Jane has the biggest number of customers, wherea Steve the smallest."
   ]
  },
  {
   "cell_type": "markdown",
   "metadata": {},
   "source": [
    "#### 2.2 Every sale"
   ]
  },
  {
   "cell_type": "code",
   "execution_count": 49,
   "metadata": {
    "scrolled": false
   },
   "outputs": [
    {
     "name": "stdout",
     "output_type": "stream",
     "text": [
      "     customer_id  total  support_rep_id  employee_name\n",
      "0              1   8.91               3   Jane Peacock\n",
      "1              1   5.94               3   Jane Peacock\n",
      "2              1   8.91               3   Jane Peacock\n",
      "3              1  13.86               3   Jane Peacock\n",
      "4              1   5.94               3   Jane Peacock\n",
      "5              1   0.99               3   Jane Peacock\n",
      "6              1  17.82               3   Jane Peacock\n",
      "7              1  10.89               3   Jane Peacock\n",
      "8              1  12.87               3   Jane Peacock\n",
      "9              1   3.96               3   Jane Peacock\n",
      "10             1   3.96               3   Jane Peacock\n",
      "11             1   5.94               3   Jane Peacock\n",
      "12             1   8.91               3   Jane Peacock\n",
      "13             2  13.86               5  Steve Johnson\n",
      "14             2   2.97               5  Steve Johnson\n",
      "15             2   7.92               5  Steve Johnson\n",
      "16             2   8.91               5  Steve Johnson\n",
      "17             2  10.89               5  Steve Johnson\n",
      "18             2   1.98               5  Steve Johnson\n",
      "19             2   5.94               5  Steve Johnson\n",
      "20             2   0.99               5  Steve Johnson\n",
      "21             2  10.89               5  Steve Johnson\n",
      "22             2   9.90               5  Steve Johnson\n",
      "23             2   7.92               5  Steve Johnson\n",
      "24             3  19.80               3   Jane Peacock\n",
      "25             3  16.83               3   Jane Peacock\n",
      "26             3   9.90               3   Jane Peacock\n",
      "27             3   6.93               3   Jane Peacock\n",
      "28             3   7.92               3   Jane Peacock\n",
      "29             3   2.97               3   Jane Peacock\n",
      "..           ...    ...             ...            ...\n",
      "584           57   4.95               5  Steve Johnson\n",
      "585           57   3.96               5  Steve Johnson\n",
      "586           57   3.96               5  Steve Johnson\n",
      "587           57   9.90               5  Steve Johnson\n",
      "588           57   4.95               5  Steve Johnson\n",
      "589           57  14.85               5  Steve Johnson\n",
      "590           57   9.90               5  Steve Johnson\n",
      "591           57   9.90               5  Steve Johnson\n",
      "592           57  10.89               5  Steve Johnson\n",
      "593           58   3.96               3   Jane Peacock\n",
      "594           58   6.93               3   Jane Peacock\n",
      "595           58   5.94               3   Jane Peacock\n",
      "596           58   7.92               3   Jane Peacock\n",
      "597           58  12.87               3   Jane Peacock\n",
      "598           58   8.91               3   Jane Peacock\n",
      "599           58   9.90               3   Jane Peacock\n",
      "600           58  10.89               3   Jane Peacock\n",
      "601           58  16.83               3   Jane Peacock\n",
      "602           58   4.95               3   Jane Peacock\n",
      "603           58   3.96               3   Jane Peacock\n",
      "604           58  15.84               3   Jane Peacock\n",
      "605           58   2.97               3   Jane Peacock\n",
      "606           59   9.90               3   Jane Peacock\n",
      "607           59   9.90               3   Jane Peacock\n",
      "608           59  11.88               3   Jane Peacock\n",
      "609           59   8.91               3   Jane Peacock\n",
      "610           59   8.91               3   Jane Peacock\n",
      "611           59   8.91               3   Jane Peacock\n",
      "612           59   7.92               3   Jane Peacock\n",
      "613           59   4.95               3   Jane Peacock\n",
      "\n",
      "[614 rows x 4 columns]\n"
     ]
    },
    {
     "data": {
      "text/plain": [
       "Text(0,0.5,'Invoice Total')"
      ]
     },
     "execution_count": 49,
     "metadata": {},
     "output_type": "execute_result"
    },
    {
     "data": {
      "image/png": "[encoded data removed]",
      "text/plain": [
       "<Figure size 432x288 with 1 Axes>"
      ]
     },
     "metadata": {},
     "output_type": "display_data"
    }
   ],
   "source": [
    "q = ''' SELECT \n",
    "            i.customer_id,\n",
    "            i.total,\n",
    "            c.support_rep_id,\n",
    "            (e.first_name || ' ' || e.last_name) employee_name\n",
    "        FROM invoice i\n",
    "        INNER JOIN customer c\n",
    "        ON i.customer_id = c.customer_id\n",
    "        INNER JOIN employee e\n",
    "        ON c.support_rep_id = e.employee_id\n",
    "        ORDER BY i.customer_id\n",
    "    \n",
    "    '''\n",
    "\n",
    "if __name__ == '__main__':\n",
    "    print(run_query(q))\n",
    "\n",
    "customer_purchases = run_query(q)\n",
    "customer_purchases.employee_name = customer_purchases.employee_name.astype('category')\n",
    "\n",
    "fig, ax = plt.subplots()\n",
    "sns.boxplot(x='employee_name', y='total', data = customer_purchases, ax=ax)\n",
    "ax.set_xlabel('Employee Name')\n",
    "ax.set_ylabel('Invoice Total')"
   ]
  },
  {
   "cell_type": "markdown",
   "metadata": {},
   "source": [
    "According to the boxplot above, Jane Peacock and Steve Johnson have approximately the same median in sales (around \\$8 per invoice) and the overall distribution in sales. However, Jane Peacock has more outliers, which means that there were days when she sold much more tracks than usually. Hence, this can explain the fact that she has biggest sales among three of them. Next, although Margaret Park's median sales are lower than others' (around \\$7 per invoice), she has the biggest variations in both third and fourth quartiles. Thus, the fact that 25% of her sales vary from \\$11 to \\$20 explains why her total sales are bigger than Steve's."
   ]
  },
  {
   "cell_type": "markdown",
   "metadata": {},
   "source": [
    "## 3. Sales by country"
   ]
  },
  {
   "cell_type": "markdown",
   "metadata": {},
   "source": [
    "It is important for marketing team to know as many details as possible about their actual or potential audience. In particular, location of the customers, since their nationality and culture influences their prefences significantly. "
   ]
  },
  {
   "cell_type": "code",
   "execution_count": 9,
   "metadata": {},
   "outputs": [
    {
     "name": "stdout",
     "output_type": "stream",
     "text": [
      "    country_other  number_of_customers  total_purchased  avg_per_customer  \\\n",
      "0             USA                   13          1040.49         80.037692   \n",
      "1          Canada                    8           535.59         66.948750   \n",
      "2          Brazil                    5           427.68         85.536000   \n",
      "3          France                    5           389.07         77.814000   \n",
      "4         Germany                    4           334.62         83.655000   \n",
      "5  Czech Republic                    2           273.24        136.620000   \n",
      "6  United Kingdom                    3           245.52         81.840000   \n",
      "7        Portugal                    2           185.13         92.565000   \n",
      "8           India                    2           183.15         91.575000   \n",
      "9           other                   15          1094.94       1094.940000   \n",
      "\n",
      "   avg_per_invoice  \n",
      "0         8.014750  \n",
      "1         7.416238  \n",
      "2         6.987485  \n",
      "3         7.835000  \n",
      "4         8.188750  \n",
      "5         9.377500  \n",
      "6         8.749583  \n",
      "7         6.527813  \n",
      "8         8.757692  \n",
      "9       111.676066  \n"
     ]
    }
   ],
   "source": [
    "q = '''WITH customers_total AS\n",
    "       (\n",
    "        SELECT\n",
    "           customer_id,\n",
    "           SUM(total) total_purchased,\n",
    "           AVG(total) avg_per_invoice\n",
    "        FROM invoice\n",
    "        GROUP BY 1\n",
    "        ORDER BY 1\n",
    "       ),\n",
    "       \n",
    "       country_statistics AS\n",
    "       (\n",
    "        SELECT\n",
    "           c.country,\n",
    "           COUNT(ct.customer_id) number_of_customers,\n",
    "           SUM(ct.total_purchased) total_purchased,\n",
    "           AVG(ct.total_purchased) avg_per_customer,\n",
    "           AVG(ct.avg_per_invoice) avg_per_invoice\n",
    "        FROM customer c\n",
    "        LEFT JOIN customers_total ct\n",
    "        ON c.customer_id = ct.customer_id\n",
    "        GROUP BY 1\n",
    "       ),\n",
    "       \n",
    "       country_statistics_other AS\n",
    "       (\n",
    "        SELECT \n",
    "            CASE\n",
    "                WHEN number_of_customers = 1 THEN 'other'\n",
    "                ELSE country\n",
    "                END\n",
    "                AS country_other,\n",
    "            *\n",
    "       FROM country_statistics\n",
    "       ),\n",
    "       \n",
    "       full_country_statistics_other AS\n",
    "       (\n",
    "        SELECT\n",
    "            country_other,\n",
    "            SUM(number_of_customers) number_of_customers,\n",
    "            SUM(total_purchased) total_purchased,\n",
    "            SUM(avg_per_customer) avg_per_customer,\n",
    "            SUM(avg_per_invoice) avg_per_invoice\n",
    "        FROM country_statistics_other\n",
    "        GROUP BY 1\n",
    "        ORDER BY 3 DESC\n",
    "       )\n",
    "       \n",
    "       SELECT \n",
    "           country_other,\n",
    "           number_of_customers,\n",
    "           total_purchased,\n",
    "           avg_per_customer,\n",
    "           avg_per_invoice\n",
    "       FROM\n",
    "           (\n",
    "            SELECT fcso.*,\n",
    "                   CASE\n",
    "                       WHEN country_other = 'other' THEN 1\n",
    "                       ELSE 0\n",
    "                       END\n",
    "                       AS sort\n",
    "            FROM full_country_statistics_other fcso\n",
    "           )\n",
    "       ORDER BY sort\n",
    "    '''\n",
    "\n",
    "if __name__ == '__main__':\n",
    "    print(run_query(q))\n",
    "\n",
    "df_country = run_query(q)"
   ]
  },
  {
   "cell_type": "code",
   "execution_count": 10,
   "metadata": {},
   "outputs": [],
   "source": [
    "df_country.drop(9, axis=0, inplace=True)"
   ]
  },
  {
   "cell_type": "code",
   "execution_count": 11,
   "metadata": {},
   "outputs": [],
   "source": [
    "df_country.country_other = df_country.country_other.astype('category')"
   ]
  },
  {
   "cell_type": "markdown",
   "metadata": {},
   "source": [
    "Let's plot barplots for every column."
   ]
  },
  {
   "cell_type": "code",
   "execution_count": 51,
   "metadata": {},
   "outputs": [
    {
     "data": {
      "text/plain": [
       "Text(0.5,0,'')"
      ]
     },
     "execution_count": 51,
     "metadata": {},
     "output_type": "execute_result"
    },
    {
     "data": {
      "image/png": "[encoded data removed]",
      "text/plain": [
       "<Figure size 864x432 with 4 Axes>"
      ]
     },
     "metadata": {},
     "output_type": "display_data"
    }
   ],
   "source": [
    "sns.set(context='talk', style = 'white')\n",
    "fig, (ax1, ax2, ax3, ax4) = plt.subplots(4, 1, figsize=(12, 6), sharex=True)\n",
    "\n",
    "#first subplot\n",
    "sns.barplot(x='country_other', y='number_of_customers', data=df_country, ax=ax1)\n",
    "ax1.set_ylabel('Customers')\n",
    "ax1.set_xlabel('')\n",
    "\n",
    "#seo=cond subplot\n",
    "sns.barplot(x='country_other', y='total_purchased', data=df_country, ax=ax2)\n",
    "ax2.set_ylabel('Total Purchases')\n",
    "ax2.set_xlabel('')\n",
    "\n",
    "#first subplot\n",
    "sns.barplot(x='country_other', y='avg_per_customer', data=df_country, ax=ax3)\n",
    "ax3.set_ylabel('Per Customer')\n",
    "ax3.set_xlabel('')\n",
    "\n",
    "#first subplot\n",
    "sns.barplot(x='country_other', y='avg_per_invoice', data=df_country, ax=ax4)\n",
    "ax4.set_ylabel('Per Invoice')\n",
    "ax4.set_xlabel('')"
   ]
  },
  {
   "cell_type": "markdown",
   "metadata": {},
   "source": [
    "We can conclude that most of Chinook's customers are from USA and Canada. Moreover, these two countries have the largest number of total purchases. However, despite the fact that USA and Canada provide the biggest amount of profits, customers from Czech Republic on average spend much more than US and Canadian customers. In particular, every Czech client spent around \\$150 in Chinook with average of \\$10 per invoice, while typical US customer would not spent more than \\$150 in store and around \\$8 per invoice. Hence, in order to boost their sales, Chinook should consider improving their advertisement campaign in Czech Republic, so that they will attract more customers who are willing to spend more on buying tracks from Chinook. Nevertheless, it should be noted that were only 2 customers from Czech Republic in the sample, so it would be useful to collect more data before investing money in marketing in Europe."
   ]
  }
 ],
 "metadata": {
  "kernelspec": {
   "display_name": "Python 3",
   "language": "python",
   "name": "python3"
  },
  "language_info": {
   "codemirror_mode": {
    "name": "ipython",
    "version": 2
   },
   "file_extension": ".py",
   "mimetype": "text/x-python",
   "name": "python",
   "nbconvert_exporter": "python",
   "pygments_lexer": "ipython2",
   "version": "2.7.15"
  }
 },
 "nbformat": 4,
 "nbformat_minor": 2
}
